{
 "cells": [
  {
   "cell_type": "markdown",
   "metadata": {},
   "source": [
    "# <font color = blue>                                    ALGORITHMIC QUESTION\n",
    "    \n",
    "    \n",
    "####  <font color = green> * You are given a string, s. Let's define a subsequence as the subset of characters that respects the order we find them in s. For instance, a subsequence of \"DATAMINING\" is \"TMNN\".        Your goal is to define and implement an algorithm that finds the length of the longest possible subsequence that can be read in the same way forward and backwards.         For example, given the string \"DATAMININGSAPIENZA\" the answer should be 7 (dAtamININgsapIenzA)."
   ]
  },
  {
   "cell_type": "markdown",
   "metadata": {},
   "source": [
    "#### For this type of algo, it's supposed that we want a short running time. To be efficient, we have to modify the \"___Divide et Impera___\" method  and avoid the recursive part.\n",
    "\n",
    "#### In simple terms, we're going to use the <font color=red>Dynamic Programming</font> (seen in the Edit Distance's chapter), that consists in analyze the string, divide each letter control in a subproblem, and  build a 2-dimensional table in which the subproblems solved are stored (so <u>*table = algo's memory*</u>)  and that returns the lenght of the longest palindromic subsequence."
   ]
  },
  {
   "cell_type": "code",
   "execution_count": 60,
   "metadata": {},
   "outputs": [],
   "source": [
    "def algo(s): \n",
    "    l = len(s) \n",
    "    table = [[0 for i in range(l)] for j in range(l)] \n",
    "    for cross in range(l):\n",
    "        x = cross\n",
    "        table[x][x] = 1  # obviously the string's letters compared with the same letters are palindromic of lenght 1\n",
    "    for subs in range(2, l+1): # we are gonna increase the lenght of subsequence we want analyze with this 'for'\n",
    "        u = subs\n",
    "        for i in range(l - u + 1): #instead of moving row by row such as in 'Edit Distance', we move in diagonal\n",
    "            j = i + u - 1             #starting from the principal diagonal of 1's\n",
    "            if s[i] == s[j]:        \n",
    "                table[i][j] = table[i+1][j-1] + 2\n",
    "            else: \n",
    "                table[i][j] = max(table[i][j-1],\n",
    "                                  table[i+1][j]) \n",
    "    return table[0][l-1]       #the result we want is the number in the top vertex of the table"
   ]
  },
  {
   "cell_type": "code",
   "execution_count": 62,
   "metadata": {},
   "outputs": [
    {
     "data": {
      "text/plain": [
       "7"
      ]
     },
     "execution_count": 62,
     "metadata": {},
     "output_type": "execute_result"
    }
   ],
   "source": [
    "algo('dataminingsapienza')"
   ]
  },
  {
   "cell_type": "code",
   "execution_count": 63,
   "metadata": {},
   "outputs": [
    {
     "data": {
      "text/plain": [
       "21"
      ]
     },
     "execution_count": 63,
     "metadata": {},
     "output_type": "execute_result"
    }
   ],
   "source": [
    "algo('itopinonavevanonipoti')"
   ]
  },
  {
   "cell_type": "code",
   "execution_count": null,
   "metadata": {},
   "outputs": [],
   "source": []
  }
 ],
 "metadata": {
  "kernelspec": {
   "display_name": "Python 3",
   "language": "python",
   "name": "python3"
  },
  "language_info": {
   "codemirror_mode": {
    "name": "ipython",
    "version": 3
   },
   "file_extension": ".py",
   "mimetype": "text/x-python",
   "name": "python",
   "nbconvert_exporter": "python",
   "pygments_lexer": "ipython3",
   "version": "3.7.3"
  }
 },
 "nbformat": 4,
 "nbformat_minor": 2
}
