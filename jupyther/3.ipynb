{
 "cells": [
  {
   "cell_type": "code",
   "execution_count": 103,
   "metadata": {},
   "outputs": [],
   "source": [
    "import json\n",
    "import pandas as pd \n",
    "from pymongo import MongoClient\n",
    "import nltk\n",
    "import numpy as np\n",
    "from operator import itemgetter\n"
   ]
  },
  {
   "cell_type": "code",
   "execution_count": 88,
   "metadata": {},
   "outputs": [],
   "source": [
    "with open(\"inverted_index.txt\",\"r\") as f:\n",
    "    text=f.read()\n",
    "with open(\"inverted_index2.txt\",\"r\") as f:\n",
    "    text1=f.read()"
   ]
  },
  {
   "cell_type": "code",
   "execution_count": 89,
   "metadata": {},
   "outputs": [],
   "source": [
    "inverted_index=json.loads(text)\n",
    "inverted_index2=json.loads(text1)"
   ]
  },
  {
   "cell_type": "code",
   "execution_count": 138,
   "metadata": {},
   "outputs": [],
   "source": [
    "def stemming_query(inputs):\n",
    "    words=nltk.word_tokenize(inputs)\n",
    "    words=[word.lower() for word in words if word.isalnum()]\n",
    "    lemantizer=nltk.stem.WordNetLemmatizer()\n",
    "    words =[lemantizer.lemmatize(word) for word in words]\n",
    "    \n",
    "    return words\n",
    "\n",
    "def query_score(queries):\n",
    "    score_dic=[]\n",
    "    intersection=set(inverted_index[queries[0]])\n",
    "    counter=0\n",
    "    #calculates tf-idf for the que\n",
    "    try:\n",
    "        for query in queries:\n",
    "            if counter == 0:\n",
    "                idf=1+np.log(29169/len(inverted_index[query]))\n",
    "                score_dic.append(idf * (queries.count(query)/len(queries)))\n",
    "                counter +=1 \n",
    "            else:\n",
    "                idf=1+np.log(29169/len(inverted_index[query]))\n",
    "                score_dic.append(idf * (queries.count(query)/len(queries)))\n",
    "                intersection=intersection.intersection(inverted_index[query])\n",
    "        score_dic=np.array(score_dic)\n",
    "    except ZeroDivisionError as e1:\n",
    "        print(\"Query not found in the inverted_index\")\n",
    "        sys.exit(1)\n",
    "    return (list(intersection),score_dic)\n",
    "def manhattan_distance(documents,query_score):\n",
    "    ranking_list=[]\n",
    "    for document in documents:\n",
    "        doc_score=[]\n",
    "        for query in queries:\n",
    "            doc_score.append(inverted_index2[query][document])\n",
    "        doc_score=np.array(doc_score)\n",
    "        ranking_list.append((document,np.sum(np.abs(query_score-doc_score))))\n",
    "    \n",
    "    ranking_list=sorted(ranking_list, key=itemgetter(1),reverse=True)\n",
    "    return ranking_list\n",
    "def show_related_data(ranked_list):\n",
    "    last_data=pd.DataFrame(columns=[\"Title\",\"Url\",\"Manhattan similiraties\"])\n",
    "    for i in ranked_list:\n",
    "        doc_num=(int(i[0][9:]))\n",
    "        dataframe=pd.read_csv(\"./tsvfiles/tsv_file{}.txt\".format(doc_num),sep=\"\\t\")\n",
    "        dataframe[\"Manhattan similiraties\"]=[i[1] for i in ranked_list]\n",
    "        last_data.append(dataframe[[\"film_name\",\"URL\",\"Manhattan similiraties\"]])\n",
    "    return last_data"
   ]
  },
  {
   "cell_type": "code",
   "execution_count": 140,
   "metadata": {},
   "outputs": [
    {
     "name": "stdout",
     "output_type": "stream",
     "text": [
      "disney 2019\n"
     ]
    },
    {
     "data": {
      "text/plain": [
       "[('document_11903', 6.114159279756877),\n",
       " ('document_11910', 6.034805506057101),\n",
       " ('document_10852', 6.017143737610619)]"
      ]
     },
     "execution_count": 140,
     "metadata": {},
     "output_type": "execute_result"
    }
   ],
   "source": [
    "queries=stemming_query(input())\n",
    "score=query_score(queries)\n",
    "score=manhattan_distance(score[0],score[1])\n",
    "score"
   ]
  },
  {
   "cell_type": "code",
   "execution_count": 21,
   "metadata": {},
   "outputs": [],
   "source": [
    "client= MongoClient()\n",
    "db=client[\"HW3\"]\n",
    "collection = db[\"Box-infoandRest\"]\n",
    "data=collection.find()"
   ]
  },
  {
   "cell_type": "code",
   "execution_count": 22,
   "metadata": {},
   "outputs": [],
   "source": [
    "dataframe=pd.DataFrame(data)\n",
    "dataframe.drop([\"_id\"],axis=1,inplace=True)"
   ]
  },
  {
   "cell_type": "code",
   "execution_count": 33,
   "metadata": {},
   "outputs": [
    {
     "data": {
      "text/plain": [
       "array(['id', 'film_name', 'Directed by', 'Produced by', 'Written by',\n",
       "       'Starring', 'Music by', 'Based on', 'Cinematography',\n",
       "       'Productioncompany ', 'Release date', 'Running time', 'Country',\n",
       "       'Language', 'Budget', 'URL', 'Title', 'Intro', 'Plot',\n",
       "       'Title_tokenized', 'Intro_tokenized', 'Plot_tokenized',\n",
       "       'Title_lemmatize', 'Intro_lemmatize', 'Plot_lemmatize', 'Title_sw',\n",
       "       'Intro_sw', 'Plot_sw', 'Title_punc', 'Intro_punc', 'Plot_punc'],\n",
       "      dtype=object)"
      ]
     },
     "execution_count": 33,
     "metadata": {},
     "output_type": "execute_result"
    }
   ],
   "source": [
    "dataframe.columns.values"
   ]
  },
  {
   "cell_type": "code",
   "execution_count": 85,
   "metadata": {},
   "outputs": [],
   "source": [
    "columns=['film_name', 'Directed by', 'Produced by', 'Written by',\n",
    "       'Starring', 'Music by', 'Based on', 'Cinematography',\n",
    "       'Productioncompany ', 'Release date', 'Running time', 'Country',\n",
    "       'Language', 'Budget', 'URL']\n",
    "dataframe[\"new\"]=np.nan\n",
    "for col in columns:\n",
    "    dataframe[\"new\"] = dataframe[\"new\"].astype(str) + \" \"+ dataframe[col].astype(str)"
   ]
  },
  {
   "cell_type": "code",
   "execution_count": 87,
   "metadata": {},
   "outputs": [
    {
     "data": {
      "text/plain": [
       "0        [nan, love, by, the, light, of, the, moon, edw...\n",
       "1        [nan, the, martyred, president, edwin, porter,...\n",
       "2        [nan, jack, and, the, beanstalk, george, flemi...\n",
       "3        [nan, alice, in, wonderland, cecil, hepworthpe...\n",
       "4        [nan, the, great, train, robbery, edwin, porte...\n",
       "                               ...                        \n",
       "29164    [nan, paarai, none, sarath, kumarjayarammeenar...\n",
       "29165    [nan, jayam, raja, varalakshmieditor, mohan, p...\n",
       "29166    [nan, kaadhal, kondein, selvaraghavan, vimalag...\n",
       "29167    [nan, kovilpatti, veeralakshmi, rajeshwar, non...\n",
       "29168    [nan, whistle, jerry, medium, dream, sujatha, ...\n",
       "Name: new, Length: 29169, dtype: object"
      ]
     },
     "execution_count": 87,
     "metadata": {},
     "output_type": "execute_result"
    }
   ],
   "source": [
    "dataframe[\"new\"].apply(stemming_query)\n"
   ]
  },
  {
   "cell_type": "code",
   "execution_count": 92,
   "metadata": {},
   "outputs": [
    {
     "data": {
      "text/plain": [
       "2"
      ]
     },
     "execution_count": 92,
     "metadata": {},
     "output_type": "execute_result"
    }
   ],
   "source": []
  },
  {
   "cell_type": "code",
   "execution_count": null,
   "metadata": {},
   "outputs": [],
   "source": [
    "last_data=pd.DataFrame(columns=[\"Title\",\"Url\",\"Manhattan similiraties\"])"
   ]
  },
  {
   "cell_type": "code",
   "execution_count": 135,
   "metadata": {},
   "outputs": [
    {
     "data": {
      "text/html": [
       "<div>\n",
       "<style scoped>\n",
       "    .dataframe tbody tr th:only-of-type {\n",
       "        vertical-align: middle;\n",
       "    }\n",
       "\n",
       "    .dataframe tbody tr th {\n",
       "        vertical-align: top;\n",
       "    }\n",
       "\n",
       "    .dataframe thead th {\n",
       "        text-align: right;\n",
       "    }\n",
       "</style>\n",
       "<table border=\"1\" class=\"dataframe\">\n",
       "  <thead>\n",
       "    <tr style=\"text-align: right;\">\n",
       "      <th></th>\n",
       "      <th>Title</th>\n",
       "      <th>Url</th>\n",
       "      <th>Manhattan similiraties</th>\n",
       "    </tr>\n",
       "  </thead>\n",
       "  <tbody>\n",
       "    <tr>\n",
       "      <td>0</td>\n",
       "      <td>1</td>\n",
       "      <td>2</td>\n",
       "      <td>3</td>\n",
       "    </tr>\n",
       "  </tbody>\n",
       "</table>\n",
       "</div>"
      ],
      "text/plain": [
       "   Title  Url  Manhattan similiraties\n",
       "0      1    2                       3"
      ]
     },
     "execution_count": 135,
     "metadata": {},
     "output_type": "execute_result"
    }
   ],
   "source": [
    "pd.DataFrame([[1,2,3]],columns=last_data.columns)"
   ]
  }
 ],
 "metadata": {
  "kernelspec": {
   "display_name": "Python 3",
   "language": "python",
   "name": "python3"
  },
  "language_info": {
   "codemirror_mode": {
    "name": "ipython",
    "version": 3
   },
   "file_extension": ".py",
   "mimetype": "text/x-python",
   "name": "python",
   "nbconvert_exporter": "python",
   "pygments_lexer": "ipython3",
   "version": "3.7.4"
  }
 },
 "nbformat": 4,
 "nbformat_minor": 2
}
